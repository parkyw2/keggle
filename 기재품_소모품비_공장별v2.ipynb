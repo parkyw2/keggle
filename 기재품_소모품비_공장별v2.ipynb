{
  "nbformat": 4,
  "nbformat_minor": 0,
  "metadata": {
    "colab": {
      "name": "기재품-소모품비-공장별.ipynb",
      "provenance": [],
      "collapsed_sections": [],
      "authorship_tag": "ABX9TyOwFTLPcofQHaK/shMLept1",
      "include_colab_link": true
    },
    "kernelspec": {
      "name": "python3",
      "display_name": "Python 3"
    },
    "language_info": {
      "name": "python"
    }
  },
  "cells": [
    {
      "cell_type": "markdown",
      "metadata": {
        "id": "view-in-github",
        "colab_type": "text"
      },
      "source": [
        "<a href=\"https://colab.research.google.com/github/parkyw2/parkyw2/blob/main/%EA%B8%B0%EC%9E%AC%ED%92%88_%EC%86%8C%EB%AA%A8%ED%92%88%EB%B9%84_%EA%B3%B5%EC%9E%A5%EB%B3%84v2.ipynb\" target=\"_parent\"><img src=\"https://colab.research.google.com/assets/colab-badge.svg\" alt=\"Open In Colab\"/></a>"
      ]
    },
    {
      "cell_type": "code",
      "execution_count": 1,
      "metadata": {
        "id": "fqYnjgWbeWUp"
      },
      "outputs": [],
      "source": [
        "%load_ext rpy2.ipython\n",
        "%matplotlib inline\n",
        "from fbprophet import Prophet\n",
        "import pandas as pd\n",
        "from matplotlib import pyplot as plt\n",
        "import logging\n",
        "logging.getLogger('prophet').setLevel(logging.ERROR)\n",
        "import warnings\n",
        "warnings.filterwarnings(\"ignore\")\n",
        "from sklearn.metrics import mean_squared_error, r2_score, mean_absolute_error\n",
        "import numpy as np"
      ]
    },
    {
      "cell_type": "code",
      "source": [
        "from google.colab import drive\n",
        "drive.mount('/content/drive')"
      ],
      "metadata": {
        "colab": {
          "base_uri": "https://localhost:8080/",
          "height": 342
        },
        "id": "Comu6H_AeYfZ",
        "outputId": "443bc437-9353-4ee5-96da-8c2c100cc740"
      },
      "execution_count": 2,
      "outputs": [
        {
          "output_type": "error",
          "ename": "MessageError",
          "evalue": "ignored",
          "traceback": [
            "\u001b[0;31m---------------------------------------------------------------------------\u001b[0m",
            "\u001b[0;31mMessageError\u001b[0m                              Traceback (most recent call last)",
            "\u001b[0;32m<ipython-input-2-d5df0069828e>\u001b[0m in \u001b[0;36m<module>\u001b[0;34m()\u001b[0m\n\u001b[1;32m      1\u001b[0m \u001b[0;32mfrom\u001b[0m \u001b[0mgoogle\u001b[0m\u001b[0;34m.\u001b[0m\u001b[0mcolab\u001b[0m \u001b[0;32mimport\u001b[0m \u001b[0mdrive\u001b[0m\u001b[0;34m\u001b[0m\u001b[0;34m\u001b[0m\u001b[0m\n\u001b[0;32m----> 2\u001b[0;31m \u001b[0mdrive\u001b[0m\u001b[0;34m.\u001b[0m\u001b[0mmount\u001b[0m\u001b[0;34m(\u001b[0m\u001b[0;34m'/content/drive'\u001b[0m\u001b[0;34m)\u001b[0m\u001b[0;34m\u001b[0m\u001b[0;34m\u001b[0m\u001b[0m\n\u001b[0m",
            "\u001b[0;32m/usr/local/lib/python3.7/dist-packages/google/colab/drive.py\u001b[0m in \u001b[0;36mmount\u001b[0;34m(mountpoint, force_remount, timeout_ms)\u001b[0m\n\u001b[1;32m    107\u001b[0m       \u001b[0mforce_remount\u001b[0m\u001b[0;34m=\u001b[0m\u001b[0mforce_remount\u001b[0m\u001b[0;34m,\u001b[0m\u001b[0;34m\u001b[0m\u001b[0;34m\u001b[0m\u001b[0m\n\u001b[1;32m    108\u001b[0m       \u001b[0mtimeout_ms\u001b[0m\u001b[0;34m=\u001b[0m\u001b[0mtimeout_ms\u001b[0m\u001b[0;34m,\u001b[0m\u001b[0;34m\u001b[0m\u001b[0;34m\u001b[0m\u001b[0m\n\u001b[0;32m--> 109\u001b[0;31m       ephemeral=True)\n\u001b[0m\u001b[1;32m    110\u001b[0m \u001b[0;34m\u001b[0m\u001b[0m\n\u001b[1;32m    111\u001b[0m \u001b[0;34m\u001b[0m\u001b[0m\n",
            "\u001b[0;32m/usr/local/lib/python3.7/dist-packages/google/colab/drive.py\u001b[0m in \u001b[0;36m_mount\u001b[0;34m(mountpoint, force_remount, timeout_ms, ephemeral)\u001b[0m\n\u001b[1;32m    122\u001b[0m   \u001b[0;32mif\u001b[0m \u001b[0mephemeral\u001b[0m\u001b[0;34m:\u001b[0m\u001b[0;34m\u001b[0m\u001b[0;34m\u001b[0m\u001b[0m\n\u001b[1;32m    123\u001b[0m     _message.blocking_request(\n\u001b[0;32m--> 124\u001b[0;31m         'request_auth', request={'authType': 'dfs_ephemeral'}, timeout_sec=None)\n\u001b[0m\u001b[1;32m    125\u001b[0m \u001b[0;34m\u001b[0m\u001b[0m\n\u001b[1;32m    126\u001b[0m   \u001b[0mmountpoint\u001b[0m \u001b[0;34m=\u001b[0m \u001b[0m_os\u001b[0m\u001b[0;34m.\u001b[0m\u001b[0mpath\u001b[0m\u001b[0;34m.\u001b[0m\u001b[0mexpanduser\u001b[0m\u001b[0;34m(\u001b[0m\u001b[0mmountpoint\u001b[0m\u001b[0;34m)\u001b[0m\u001b[0;34m\u001b[0m\u001b[0;34m\u001b[0m\u001b[0m\n",
            "\u001b[0;32m/usr/local/lib/python3.7/dist-packages/google/colab/_message.py\u001b[0m in \u001b[0;36mblocking_request\u001b[0;34m(request_type, request, timeout_sec, parent)\u001b[0m\n\u001b[1;32m    173\u001b[0m   request_id = send_request(\n\u001b[1;32m    174\u001b[0m       request_type, request, parent=parent, expect_reply=True)\n\u001b[0;32m--> 175\u001b[0;31m   \u001b[0;32mreturn\u001b[0m \u001b[0mread_reply_from_input\u001b[0m\u001b[0;34m(\u001b[0m\u001b[0mrequest_id\u001b[0m\u001b[0;34m,\u001b[0m \u001b[0mtimeout_sec\u001b[0m\u001b[0;34m)\u001b[0m\u001b[0;34m\u001b[0m\u001b[0;34m\u001b[0m\u001b[0m\n\u001b[0m",
            "\u001b[0;32m/usr/local/lib/python3.7/dist-packages/google/colab/_message.py\u001b[0m in \u001b[0;36mread_reply_from_input\u001b[0;34m(message_id, timeout_sec)\u001b[0m\n\u001b[1;32m    104\u001b[0m         reply.get('colab_msg_id') == message_id):\n\u001b[1;32m    105\u001b[0m       \u001b[0;32mif\u001b[0m \u001b[0;34m'error'\u001b[0m \u001b[0;32min\u001b[0m \u001b[0mreply\u001b[0m\u001b[0;34m:\u001b[0m\u001b[0;34m\u001b[0m\u001b[0;34m\u001b[0m\u001b[0m\n\u001b[0;32m--> 106\u001b[0;31m         \u001b[0;32mraise\u001b[0m \u001b[0mMessageError\u001b[0m\u001b[0;34m(\u001b[0m\u001b[0mreply\u001b[0m\u001b[0;34m[\u001b[0m\u001b[0;34m'error'\u001b[0m\u001b[0;34m]\u001b[0m\u001b[0;34m)\u001b[0m\u001b[0;34m\u001b[0m\u001b[0;34m\u001b[0m\u001b[0m\n\u001b[0m\u001b[1;32m    107\u001b[0m       \u001b[0;32mreturn\u001b[0m \u001b[0mreply\u001b[0m\u001b[0;34m.\u001b[0m\u001b[0mget\u001b[0m\u001b[0;34m(\u001b[0m\u001b[0;34m'data'\u001b[0m\u001b[0;34m,\u001b[0m \u001b[0;32mNone\u001b[0m\u001b[0;34m)\u001b[0m\u001b[0;34m\u001b[0m\u001b[0;34m\u001b[0m\u001b[0m\n\u001b[1;32m    108\u001b[0m \u001b[0;34m\u001b[0m\u001b[0m\n",
            "\u001b[0;31mMessageError\u001b[0m: Error: credential propagation was unsuccessful"
          ]
        }
      ]
    },
    {
      "cell_type": "code",
      "source": [
        "%cd drive/My\\ Drive/회사 데이터"
      ],
      "metadata": {
        "id": "pNASqau-ecKH"
      },
      "execution_count": null,
      "outputs": []
    },
    {
      "cell_type": "code",
      "source": [
        "df = pd.read_csv('소모품비_기재품_plant.csv')"
      ],
      "metadata": {
        "id": "lQIish30egHU"
      },
      "execution_count": null,
      "outputs": []
    },
    {
      "cell_type": "code",
      "source": [
        "df.tail(10)"
      ],
      "metadata": {
        "id": "qlkNyWH7ekR3"
      },
      "execution_count": null,
      "outputs": []
    },
    {
      "cell_type": "code",
      "source": [
        "df2 = df.loc[:, ['date', '1110', '1120', '1130', '1140', '1150', '1160', '1170', '1180']]"
      ],
      "metadata": {
        "id": "iKCoNxp-MHqP"
      },
      "execution_count": null,
      "outputs": []
    },
    {
      "cell_type": "code",
      "source": [
        "from google.colab import auth\n",
        "auth.authenticate_user()\n",
        "\n",
        "import gspread\n",
        "from google.auth import default\n",
        "creds, _ = default()\n",
        "\n",
        "gc = gspread.authorize(creds)\n",
        "\n",
        "worksheet = gc.open('소모품비_기재품_20220321').sheet1\n",
        "\n",
        "rows = worksheet.get_all_values()\n",
        "print(rows)\n",
        "\n",
        "df_new = pd.DataFrame.from_records(rows)\n",
        "df_new = df_new[1:]\n",
        "df_new.columns = [\"date\", \"1110\", \"1120\", \"1130\", \"1140\", \"1150\", \"1160\", \"1170\", \"1180\", \"total\"]\n",
        "df_new = df_new.loc[:, ['date', '1110', '1120', '1130', '1140', '1150', '1160', '1170', '1180']]\n",
        "df_new = df_new.fillna(0)\n",
        "df_new = df_new.astype({'1110':'int','1120':'int','1130':'int','1140':'int','1150':'int','1160':'int','1170':'int','1180':'int'})"
      ],
      "metadata": {
        "id": "oiBhBMxv1rJI"
      },
      "execution_count": null,
      "outputs": []
    },
    {
      "cell_type": "code",
      "source": [
        "df2 = pd.concat([df2,df_new], axis = 0)"
      ],
      "metadata": {
        "id": "x30LFKWZ101J"
      },
      "execution_count": null,
      "outputs": []
    },
    {
      "cell_type": "code",
      "source": [
        "df_date = df2['date']\n",
        "df2 = df2[[\"1110\", \"1120\", \"1130\", \"1140\", \"1150\", \"1160\", \"1170\", \"1180\"]]\n",
        "df2[df2 < 0] = 0\n",
        "df = pd.concat([df_date, df2], axis=1)\n",
        "df.tail(3)"
      ],
      "metadata": {
        "id": "DeupSNMFA4Q2"
      },
      "execution_count": null,
      "outputs": []
    },
    {
      "cell_type": "markdown",
      "source": [
        "✅ 아래 datetime 날짜를 수정 (데이터가 있는 날짜. 2019, 1, 1 ~ 오늘 날짜)"
      ],
      "metadata": {
        "id": "oAdJ5Tt2O0KL"
      }
    },
    {
      "cell_type": "code",
      "source": [
        "from datetime import datetime\n",
        "\n",
        "#안양\n",
        "df_1110 = df[['date','1110']]\n",
        "df_1110['ds'] = pd.to_datetime(df['date'])\n",
        "df_1110['y'] = df_1110['1110']\n",
        "df_1110 = df_1110.loc[:,['ds', 'y']]\n",
        "df_1110['ds'] = pd.to_datetime(df_1110['ds'])\n",
        "df_1110 = df_1110[df_1110['ds'].dt.dayofweek < 5]\n",
        "df_1110['date_index'] = df_1110['ds']\n",
        "df_1110 = df_1110.set_index('date_index')\n",
        "df_1110['cap'] = 30000000\n",
        "df_1110['floor'] = 0\n",
        "df_1110 = df_1110[datetime(2019, 1, 1):datetime(2022, 6, 22)]"
      ],
      "metadata": {
        "id": "dXuZGVi8e5xZ"
      },
      "execution_count": null,
      "outputs": []
    },
    {
      "cell_type": "code",
      "source": [
        "plt.figure(figsize = (25, 9))\n",
        "plt.plot(df_1110.index,df_1110.y)\n",
        "plt.show()"
      ],
      "metadata": {
        "id": "3jMIr9gJgG40"
      },
      "execution_count": null,
      "outputs": []
    },
    {
      "cell_type": "markdown",
      "source": [
        "✅ future = m.make_future_dataframe(periods=9) 부분에서 periods = 앞으로 예측할 날짜의 수 로 수정 (토요일 일요일 포함)\n",
        "\n",
        "✅preds= forecast['yhat'][:-7] 에서 7 을 앞으로 예측할 날짜의 수로 수정 (토요일 일요일 제외)"
      ],
      "metadata": {
        "id": "QdwK2mU7LwYj"
      }
    },
    {
      "cell_type": "code",
      "source": [
        "m=Prophet(growth='logistic',weekly_seasonality= 20,yearly_seasonality=5,seasonality_prior_scale=20, changepoint_prior_scale=0.5)\n",
        "m.add_seasonality(name='monthly', period=30.5, fourier_order=2)\n",
        "m.add_country_holidays(country_name='KR')\n",
        "m.fit(df_1110)\n",
        "\n",
        "future = m.make_future_dataframe(periods=8)    # periods 수정!!\n",
        "future = future[future['ds'].dt.dayofweek < 5]\n",
        "future['cap'] = 25000000\n",
        "future['floor'] = 0\n",
        "\n",
        "forecast=m.predict(future)\n",
        "preds= forecast['yhat'][:-6]     # 숫자 수정!!"
      ],
      "metadata": {
        "id": "mxM1ewTNiHzy"
      },
      "execution_count": null,
      "outputs": []
    },
    {
      "cell_type": "code",
      "source": [
        "plt.figure(figsize=(15,6))\n",
        "plt.plot(df_1110.index,preds,color='red',label=' Predictions')\n",
        "plt.plot(df_1110.index,df_1110.y,color='blue',label='Actual')\n",
        "plt.legend()\n",
        "plt.show()"
      ],
      "metadata": {
        "id": "-TUBCTvFijgL"
      },
      "execution_count": null,
      "outputs": []
    },
    {
      "cell_type": "code",
      "source": [
        "fig = m.plot(m.predict(future))"
      ],
      "metadata": {
        "id": "DG5kNdkOip1R"
      },
      "execution_count": null,
      "outputs": []
    },
    {
      "cell_type": "code",
      "source": [
        "r2 = round(r2_score(df_1110[\"y\"], preds), 3)\n",
        "mse = round(mean_squared_error(df_1110[\"y\"], preds), 3)\n",
        "mae = round(mean_absolute_error(df_1110[\"y\"], preds), 3)\n",
        "print(\"R2: \", r2)\n",
        "print(\"MSE: \", mse)\n",
        "print(\"MAE: \", mae)"
      ],
      "metadata": {
        "id": "pmPsTsBdiyfB"
      },
      "execution_count": null,
      "outputs": []
    },
    {
      "cell_type": "code",
      "source": [
        "fig = m.plot_components(forecast)"
      ],
      "metadata": {
        "id": "fi_K4rHei1P2"
      },
      "execution_count": null,
      "outputs": []
    },
    {
      "cell_type": "code",
      "source": [
        "from fbprophet.plot import add_changepoints_to_plot\n",
        "fig = m.plot(forecast)\n",
        "a = add_changepoints_to_plot(fig.gca(), m, forecast)"
      ],
      "metadata": {
        "id": "1ZK42a3AjD3n"
      },
      "execution_count": null,
      "outputs": []
    },
    {
      "cell_type": "code",
      "source": [
        "  pd.options.display.float_format = '{:,.0f}'.format"
      ],
      "metadata": {
        "id": "GiN0OWwejFiO"
      },
      "execution_count": null,
      "outputs": []
    },
    {
      "cell_type": "code",
      "source": [
        "final_1110 = forecast[['ds', 'yhat']]\n",
        "final_1110['yhat_1110'] = final_1110['yhat']\n",
        "final_1110 = final_1110[['ds', 'yhat_1110']]\n",
        "final_1110.tail()"
      ],
      "metadata": {
        "id": "t0PY_fMSjJsQ"
      },
      "execution_count": null,
      "outputs": []
    },
    {
      "cell_type": "markdown",
      "source": [
        "✅ 아래 datetime 날짜를 수정 (데이터가 있는 날짜. 2019, 1, 1 ~ 오늘 날짜)"
      ],
      "metadata": {
        "id": "85SZzK6IP9ap"
      }
    },
    {
      "cell_type": "code",
      "source": [
        "#Ansung\n",
        "\n",
        "df_1120 = df[['date','1120']]\n",
        "df_1120['ds'] = pd.to_datetime(df_1120['date'])\n",
        "df_1120['y'] = df_1120['1120']\n",
        "df_1120 = df_1120.loc[:,['ds', 'y']]\n",
        "df_1120['ds'] = pd.to_datetime(df_1120['ds'])\n",
        "df_1120 = df_1120[df_1120['ds'].dt.dayofweek < 5]\n",
        "df_1120['date_index'] = df_1120['ds']\n",
        "df_1120 = df_1120.set_index('date_index')\n",
        "df_1120['cap'] = 30000000\n",
        "df_1120['floor'] = 0\n",
        "df_1120 = df_1120[datetime(2019, 1, 1):datetime(2022, 6, 22)]"
      ],
      "metadata": {
        "id": "AkQAbd7hjumx"
      },
      "execution_count": null,
      "outputs": []
    },
    {
      "cell_type": "code",
      "source": [
        "plt.figure(figsize = (25, 9))\n",
        "plt.plot(df_1120.index,df_1120.y)\n",
        "plt.show()"
      ],
      "metadata": {
        "id": "dBpxHordln44"
      },
      "execution_count": null,
      "outputs": []
    },
    {
      "cell_type": "markdown",
      "source": [
        "✅ future = m.make_future_dataframe(periods=9) 부분에서 periods = 앞으로 예측할 날짜의 수 로 수정 (토요일 일요일 포함)\n",
        "\n",
        "✅preds= forecast['yhat'][:-7] 에서 7 을 앞으로 예측할 날짜의 수로 수정 (토요일 일요일 제외)"
      ],
      "metadata": {
        "id": "XDjJNafcQrwR"
      }
    },
    {
      "cell_type": "code",
      "source": [
        "m=Prophet(growth='logistic',weekly_seasonality= 20,yearly_seasonality=5,seasonality_prior_scale=20, changepoint_prior_scale=0.5)\n",
        "m.add_seasonality(name='monthly', period=30.5, fourier_order=2)\n",
        "m.add_country_holidays(country_name='KR')\n",
        "m.fit(df_1120)\n",
        "\n",
        "future = m.make_future_dataframe(periods=8)             # periods를 수정!!\n",
        "future = future[future['ds'].dt.dayofweek < 5]\n",
        "future['cap'] = 30000000\n",
        "future['floor'] = 0\n",
        "forecast=m.predict(future)\n",
        "preds= forecast['yhat'][:-6]                  # 숫자를 수정!!"
      ],
      "metadata": {
        "id": "SlNYg7DwlrEN"
      },
      "execution_count": null,
      "outputs": []
    },
    {
      "cell_type": "code",
      "source": [
        "plt.figure(figsize=(15,6))\n",
        "plt.plot(df_1120.index,preds,color='red',label=' Predictions')\n",
        "plt.plot(df_1120.index,df_1120.y,color='blue',label='Actual')\n",
        "plt.legend()\n",
        "plt.show()"
      ],
      "metadata": {
        "id": "c4AAi0j5l4hM"
      },
      "execution_count": null,
      "outputs": []
    },
    {
      "cell_type": "code",
      "source": [
        "fig = m.plot(m.predict(future))"
      ],
      "metadata": {
        "id": "4NQnU2sXmD6e"
      },
      "execution_count": null,
      "outputs": []
    },
    {
      "cell_type": "code",
      "source": [
        "r2 = round(r2_score(df_1120[\"y\"], preds), 3)\n",
        "mse = round(mean_squared_error(df_1120[\"y\"], preds), 3)\n",
        "mae = round(mean_absolute_error(df_1120[\"y\"], preds), 3)\n",
        "print(\"R2: \", r2)\n",
        "print(\"MSE: \", mse)\n",
        "print(\"MAE: \", mae)"
      ],
      "metadata": {
        "id": "7q0EN-XGmKVm"
      },
      "execution_count": null,
      "outputs": []
    },
    {
      "cell_type": "code",
      "source": [
        "fig = m.plot_components(forecast)"
      ],
      "metadata": {
        "id": "_A9_dwvbmQf3"
      },
      "execution_count": null,
      "outputs": []
    },
    {
      "cell_type": "code",
      "source": [
        "from fbprophet.plot import add_changepoints_to_plot\n",
        "fig = m.plot(forecast)\n",
        "a = add_changepoints_to_plot(fig.gca(), m, forecast)"
      ],
      "metadata": {
        "id": "K65R9P0Tmap9"
      },
      "execution_count": null,
      "outputs": []
    },
    {
      "cell_type": "code",
      "source": [
        "final_1120 = forecast[['ds', 'yhat']]\n",
        "final_1120['yhat_1120'] = final_1120['yhat']\n",
        "final_1120 = final_1120[['ds', 'yhat_1120']]\n",
        "final_1120.tail()"
      ],
      "metadata": {
        "id": "Xeg_FGBXmjdy"
      },
      "execution_count": null,
      "outputs": []
    },
    {
      "cell_type": "markdown",
      "source": [
        "✅ 아래 datetime 날짜를 수정 (데이터가 있는 날짜. 2019, 1, 1 ~ 오늘 날짜)"
      ],
      "metadata": {
        "id": "ADiC9rPARr2x"
      }
    },
    {
      "cell_type": "code",
      "source": [
        "#Asan\n",
        "\n",
        "df_1140 = df[['date','1140']]\n",
        "df_1140['ds'] = pd.to_datetime(df_1140['date'])\n",
        "df_1140['y'] = df_1140['1140']\n",
        "df_1140 = df_1140.loc[:,['ds', 'y']]\n",
        "\n",
        "df_1140['ds'] = pd.to_datetime(df_1140['ds'])\n",
        "df_1140 = df_1140[df_1140['ds'].dt.dayofweek < 5]\n",
        "df_1140['date_index'] = df_1140['ds']\n",
        "df_1140 = df_1140.set_index('date_index')\n",
        "df_1140['cap'] = 30000000\n",
        "df_1140['floor'] = 0\n",
        "\n",
        "df_1140 = df_1140[datetime(2019, 1, 1):datetime(2022, 6, 22)]"
      ],
      "metadata": {
        "id": "M48Rb_vXpLGu"
      },
      "execution_count": null,
      "outputs": []
    },
    {
      "cell_type": "code",
      "source": [
        "plt.figure(figsize = (25, 9))\n",
        "plt.plot(df_1140.index,df_1140.y)\n",
        "plt.show()"
      ],
      "metadata": {
        "id": "_M83uzXzq-HB"
      },
      "execution_count": null,
      "outputs": []
    },
    {
      "cell_type": "markdown",
      "source": [
        "✅ future = m.make_future_dataframe(periods=9) 부분에서 periods = 앞으로 예측할 날짜의 수 로 수정 (토요일 일요일 포함)\n",
        "\n",
        "✅preds= forecast['yhat'][:-7] 에서 7 을 앞으로 예측할 날짜의 수로 수정 (토요일 일요일 제외)"
      ],
      "metadata": {
        "id": "NRjUz8xZR4a5"
      }
    },
    {
      "cell_type": "code",
      "source": [
        "m=Prophet(growth='logistic',weekly_seasonality= 20,yearly_seasonality=5,seasonality_prior_scale=20, changepoint_prior_scale=0.5)\n",
        "m.add_seasonality(name='monthly', period=30.5, fourier_order=2)\n",
        "m.add_country_holidays(country_name='KR')\n",
        "m.fit(df_1140)\n",
        "\n",
        "future = m.make_future_dataframe(periods=8)\n",
        "future = future[future['ds'].dt.dayofweek < 5]\n",
        "future['cap'] = 15000000\n",
        "future['floor'] = 0\n",
        "\n",
        "forecast=m.predict(future)\n",
        "\n",
        "preds= forecast['yhat'][:-6]"
      ],
      "metadata": {
        "id": "x0kmIzJ6rPI3"
      },
      "execution_count": null,
      "outputs": []
    },
    {
      "cell_type": "code",
      "source": [
        "plt.figure(figsize=(15,6))\n",
        "plt.plot(df_1140.index,preds,color='red',label=' Predictions')\n",
        "plt.plot(df_1140.index,df_1140.y,color='blue',label='Actual')\n",
        "plt.legend()\n",
        "plt.show()"
      ],
      "metadata": {
        "id": "FV2f_NVArPGi"
      },
      "execution_count": null,
      "outputs": []
    },
    {
      "cell_type": "code",
      "source": [
        "fig = m.plot(m.predict(future))"
      ],
      "metadata": {
        "id": "602uzy0VrPEA"
      },
      "execution_count": null,
      "outputs": []
    },
    {
      "cell_type": "code",
      "source": [
        "r2 = round(r2_score(df_1140[\"y\"], preds), 3)\n",
        "mse = round(mean_squared_error(df_1140[\"y\"], preds), 3)\n",
        "mae = round(mean_absolute_error(df_1140[\"y\"], preds), 3)\n",
        "print(\"R2: \", r2)\n",
        "print(\"MSE: \", mse)\n",
        "print(\"MAE: \", mae)"
      ],
      "metadata": {
        "id": "yu-L05nmrPBe"
      },
      "execution_count": null,
      "outputs": []
    },
    {
      "cell_type": "code",
      "source": [
        "fig = m.plot_components(forecast)"
      ],
      "metadata": {
        "id": "nuQveOCdrO-_"
      },
      "execution_count": null,
      "outputs": []
    },
    {
      "cell_type": "code",
      "source": [
        "from fbprophet.plot import add_changepoints_to_plot\n",
        "fig = m.plot(forecast)\n",
        "a = add_changepoints_to_plot(fig.gca(), m, forecast)"
      ],
      "metadata": {
        "id": "wQeYQjkNrO83"
      },
      "execution_count": null,
      "outputs": []
    },
    {
      "cell_type": "code",
      "source": [
        "final_1140 = forecast[['ds', 'yhat']]\n",
        "final_1140['yhat_1140'] = final_1140['yhat']\n",
        "final_1140 = final_1140[['ds', 'yhat_1140']]\n",
        "final_1140.tail()"
      ],
      "metadata": {
        "id": "Q_RcQ_nwsPBB"
      },
      "execution_count": null,
      "outputs": []
    },
    {
      "cell_type": "markdown",
      "source": [
        "✅ 아래 datetime 날짜를 수정 (데이터가 있는 날짜. 2019, 1, 1 ~ 오늘 날짜)"
      ],
      "metadata": {
        "id": "Fr12oWWySndS"
      }
    },
    {
      "cell_type": "code",
      "source": [
        "#Poseung\n",
        "\n",
        "df_1150 = df[['date','1150']]\n",
        "df_1150['ds'] = pd.to_datetime(df_1150['date'])\n",
        "df_1150['y'] = df_1150['1150']\n",
        "df_1150 = df_1150.loc[:,['ds', 'y']]\n",
        "\n",
        "df_1150['ds'] = pd.to_datetime(df_1150['ds'])\n",
        "df_1150 = df_1150[df_1150['ds'].dt.dayofweek < 5]\n",
        "df_1150['date_index'] = df_1150['ds']\n",
        "df_1150 = df_1150.set_index('date_index')\n",
        "df_1150['cap'] = 30000000\n",
        "df_1150['floor'] = 0\n",
        "\n",
        "df_1150 = df_1150[datetime(2019, 1, 1):datetime(2022, 6, 22)]"
      ],
      "metadata": {
        "id": "iIykgZFpsO-r"
      },
      "execution_count": null,
      "outputs": []
    },
    {
      "cell_type": "code",
      "source": [
        "plt.figure(figsize = (25, 9))\n",
        "plt.plot(df_1150.index,df_1150.y)\n",
        "plt.show()"
      ],
      "metadata": {
        "id": "JrST4bK4sO3m"
      },
      "execution_count": null,
      "outputs": []
    },
    {
      "cell_type": "markdown",
      "source": [
        "✅ future = m.make_future_dataframe(periods=9) 부분에서 periods = 앞으로 예측할 날짜의 수 로 수정 (토요일 일요일 포함)\n",
        "\n",
        "✅preds= forecast['yhat'][:-7] 에서 7 을 앞으로 예측할 날짜의 수로 수정 (토요일 일요일 제외)\n",
        "\n"
      ],
      "metadata": {
        "id": "ovN1Y7r8S2Gp"
      }
    },
    {
      "cell_type": "code",
      "source": [
        "m=Prophet(growth='logistic',weekly_seasonality= 20,yearly_seasonality=5,seasonality_prior_scale=20, changepoint_prior_scale=0.5)\n",
        "m.add_seasonality(name='monthly', period=30.5, fourier_order=2)\n",
        "m.add_country_holidays(country_name='KR')\n",
        "m.fit(df_1150)\n",
        "\n",
        "future = m.make_future_dataframe(periods=8)\n",
        "future = future[future['ds'].dt.dayofweek < 5]\n",
        "future['cap'] = 30000000\n",
        "future['floor'] = 0\n",
        "\n",
        "forecast=m.predict(future)\n",
        "\n",
        "preds= forecast['yhat'][:-6]"
      ],
      "metadata": {
        "id": "hsgg72OPsO06"
      },
      "execution_count": null,
      "outputs": []
    },
    {
      "cell_type": "code",
      "source": [
        "plt.figure(figsize=(15,6))\n",
        "plt.plot(df_1150.index,preds,color='red',label=' Predictions')\n",
        "plt.plot(df_1150.index,df_1150.y,color='blue',label='Actual')\n",
        "plt.legend()\n",
        "plt.show()"
      ],
      "metadata": {
        "id": "41WNyB-xsOyL"
      },
      "execution_count": null,
      "outputs": []
    },
    {
      "cell_type": "code",
      "source": [
        "fig = m.plot(m.predict(future))"
      ],
      "metadata": {
        "id": "yZAmvD05sOp7"
      },
      "execution_count": null,
      "outputs": []
    },
    {
      "cell_type": "code",
      "source": [
        "r2 = round(r2_score(df_1150[\"y\"], preds), 3)\n",
        "mse = round(mean_squared_error(df_1150[\"y\"], preds), 3)\n",
        "mae = round(mean_absolute_error(df_1150[\"y\"], preds), 3)\n",
        "print(\"R2: \", r2)\n",
        "print(\"MSE: \", mse)\n",
        "print(\"MAE: \", mae)"
      ],
      "metadata": {
        "id": "YJRKRBxjtCCg"
      },
      "execution_count": null,
      "outputs": []
    },
    {
      "cell_type": "code",
      "source": [
        "fig = m.plot_components(forecast)"
      ],
      "metadata": {
        "id": "VLS1FvgYtCAL"
      },
      "execution_count": null,
      "outputs": []
    },
    {
      "cell_type": "code",
      "source": [
        "from fbprophet.plot import add_changepoints_to_plot\n",
        "fig = m.plot(forecast)\n",
        "a = add_changepoints_to_plot(fig.gca(), m, forecast)"
      ],
      "metadata": {
        "id": "Zj2UNE9itB9t"
      },
      "execution_count": null,
      "outputs": []
    },
    {
      "cell_type": "code",
      "source": [
        "final_1150 = forecast[['ds', 'yhat']]\n",
        "final_1150['yhat_1150'] = final_1150['yhat']\n",
        "final_1150 = final_1150[['ds', 'yhat_1150']]\n",
        "final_1150.tail()"
      ],
      "metadata": {
        "id": "WahuHRS7tB43"
      },
      "execution_count": null,
      "outputs": []
    },
    {
      "cell_type": "markdown",
      "source": [
        "✅ 아래 datetime 날짜를 수정 (데이터가 있는 날짜. 2019, 1, 1 ~ 오늘 날짜)"
      ],
      "metadata": {
        "id": "CsdtBaUvTXlB"
      }
    },
    {
      "cell_type": "code",
      "source": [
        "#GUMI\n",
        "df_1160 = df[['date','1160']]\n",
        "df_1160['ds'] = pd.to_datetime(df_1160['date'])\n",
        "df_1160['y'] = df_1160['1160']\n",
        "df_1160 = df_1160.loc[:,['ds', 'y']]\n",
        "\n",
        "df_1160['ds'] = pd.to_datetime(df_1160['ds'])\n",
        "df_1160 = df_1160[df_1160['ds'].dt.dayofweek < 5]\n",
        "df_1160['date_index'] = df_1160['ds']\n",
        "df_1160 = df_1160.set_index('date_index')\n",
        "df_1160['cap'] = 30000000\n",
        "df_1160['floor'] = 0\n",
        "\n",
        "df_1160 = df_1160[datetime(2019, 1, 1):datetime(2022, 6, 22)]"
      ],
      "metadata": {
        "id": "tgNlcRJOtB2l"
      },
      "execution_count": null,
      "outputs": []
    },
    {
      "cell_type": "code",
      "source": [
        "plt.figure(figsize = (25, 9))\n",
        "plt.plot(df_1160.index,df_1160.y)\n",
        "plt.show()"
      ],
      "metadata": {
        "id": "o0AnfyWBu5bV"
      },
      "execution_count": null,
      "outputs": []
    },
    {
      "cell_type": "markdown",
      "source": [
        "✅ future = m.make_future_dataframe(periods=9) 부분에서 periods = 앞으로 예측할 날짜의 수 로 수정 (토요일 일요일 포함)\n",
        "\n",
        "✅preds= forecast['yhat'][:-7] 에서 7 을 앞으로 예측할 날짜의 수로 수정 (토요일 일요일 제외)"
      ],
      "metadata": {
        "id": "p91zbAFRTsAL"
      }
    },
    {
      "cell_type": "code",
      "source": [
        "m=Prophet(growth='logistic',weekly_seasonality= 20,yearly_seasonality=5,seasonality_prior_scale=20, changepoint_prior_scale=0.5)\n",
        "m.add_seasonality(name='monthly', period=30.5, fourier_order=2)\n",
        "m.add_country_holidays(country_name='KR')\n",
        "m.fit(df_1160)\n",
        "\n",
        "future = m.make_future_dataframe(periods=8)\n",
        "future = future[future['ds'].dt.dayofweek < 5]\n",
        "future['cap'] = 15000000\n",
        "future['floor'] = 0\n",
        "\n",
        "forecast=m.predict(future)\n",
        "\n",
        "preds= forecast['yhat'][:-6]"
      ],
      "metadata": {
        "id": "kGCwuEshu5Yk"
      },
      "execution_count": null,
      "outputs": []
    },
    {
      "cell_type": "code",
      "source": [
        "plt.figure(figsize=(15,6))\n",
        "plt.plot(df_1160.index,preds,color='red',label=' Predictions')\n",
        "plt.plot(df_1160.index,df_1160.y,color='blue',label='Actual')\n",
        "plt.legend()\n",
        "plt.show()"
      ],
      "metadata": {
        "id": "Dle9tpSbu5V8"
      },
      "execution_count": null,
      "outputs": []
    },
    {
      "cell_type": "code",
      "source": [
        "fig = m.plot(m.predict(future))"
      ],
      "metadata": {
        "id": "5gdQJaJEu5TO"
      },
      "execution_count": null,
      "outputs": []
    },
    {
      "cell_type": "code",
      "source": [
        "r2 = round(r2_score(df_1160[\"y\"], preds), 3)\n",
        "mse = round(mean_squared_error(df_1160[\"y\"], preds), 3)\n",
        "mae = round(mean_absolute_error(df_1160[\"y\"], preds), 3)\n",
        "print(\"R2: \", r2)\n",
        "print(\"MSE: \", mse)\n",
        "print(\"MAE: \", mae)"
      ],
      "metadata": {
        "id": "Lqo6pn5tu5RI"
      },
      "execution_count": null,
      "outputs": []
    },
    {
      "cell_type": "code",
      "source": [
        "fig = m.plot_components(forecast)"
      ],
      "metadata": {
        "id": "xQ9xuqBCvnUG"
      },
      "execution_count": null,
      "outputs": []
    },
    {
      "cell_type": "code",
      "source": [
        "from fbprophet.plot import add_changepoints_to_plot\n",
        "fig = m.plot(forecast)\n",
        "a = add_changepoints_to_plot(fig.gca(), m, forecast)"
      ],
      "metadata": {
        "id": "47WwBOy4vnRx"
      },
      "execution_count": null,
      "outputs": []
    },
    {
      "cell_type": "code",
      "source": [
        "final_1160 = forecast[['ds', 'yhat']]\n",
        "final_1160['yhat_1160'] = final_1160['yhat']\n",
        "final_1160 = final_1160[['ds', 'yhat_1160']]\n",
        "final_1160.tail()"
      ],
      "metadata": {
        "id": "2f4WErNhvnMk"
      },
      "execution_count": null,
      "outputs": []
    },
    {
      "cell_type": "markdown",
      "source": [
        "✅ 아래 datetime 날짜를 수정 (데이터가 있는 날짜. 2019, 1, 1 ~ 오늘 날짜)"
      ],
      "metadata": {
        "id": "qnfe6M5jUHqQ"
      }
    },
    {
      "cell_type": "code",
      "source": [
        "#Pusan\n",
        "df_1170 = df[['date','1170']]\n",
        "df_1170['ds'] = pd.to_datetime(df_1170['date'])\n",
        "df_1170['y'] = df_1170['1170']\n",
        "df_1170 = df_1170.loc[:,['ds', 'y']]\n",
        "\n",
        "df_1170['ds'] = pd.to_datetime(df_1170['ds'])\n",
        "df_1170 = df_1170[df_1170['ds'].dt.dayofweek < 5]\n",
        "df_1170['date_index'] = df_1170['ds']\n",
        "df_1170 = df_1170.set_index('date_index')\n",
        "df_1170['cap'] = 30000000\n",
        "df_1170['floor'] = 0\n",
        "\n",
        "df_1170 = df_1170[datetime(2019, 1, 1):datetime(2022, 6, 22)]"
      ],
      "metadata": {
        "id": "2_e1vEwkvnJ6"
      },
      "execution_count": null,
      "outputs": []
    },
    {
      "cell_type": "code",
      "source": [
        "plt.figure(figsize = (25, 9))\n",
        "plt.plot(df_1170.index,df_1170.y)\n",
        "plt.show()"
      ],
      "metadata": {
        "id": "7aSmEfYYwPY3"
      },
      "execution_count": null,
      "outputs": []
    },
    {
      "cell_type": "markdown",
      "source": [
        "✅ future = m.make_future_dataframe(periods=9) 부분에서 periods = 앞으로 예측할 날짜의 수 로 수정 (토요일 일요일 포함)\n",
        "\n",
        "✅preds= forecast['yhat'][:-7] 에서 7 을 앞으로 예측할 날짜의 수로 수정 (토요일 일요일 제외)"
      ],
      "metadata": {
        "id": "ZLZxViltUSvp"
      }
    },
    {
      "cell_type": "code",
      "source": [
        "m=Prophet(growth='logistic',weekly_seasonality= 20,yearly_seasonality=5,seasonality_prior_scale=20, changepoint_prior_scale=0.5)\n",
        "m.add_seasonality(name='monthly', period=30.5, fourier_order=2)\n",
        "m.add_country_holidays(country_name='KR')\n",
        "m.fit(df_1170)\n",
        "\n",
        "future = m.make_future_dataframe(periods=8)\n",
        "future = future[future['ds'].dt.dayofweek < 5]\n",
        "future['cap'] = 25000000\n",
        "future['floor'] = 0\n",
        "\n",
        "forecast=m.predict(future)\n",
        "\n",
        "preds= forecast['yhat'][:-6]"
      ],
      "metadata": {
        "id": "3pV0fdUGwPWL"
      },
      "execution_count": null,
      "outputs": []
    },
    {
      "cell_type": "code",
      "source": [
        "plt.figure(figsize=(15,6))\n",
        "plt.plot(df_1170.index,preds,color='red',label=' Predictions')\n",
        "plt.plot(df_1170.index,df_1170.y,color='blue',label='Actual')\n",
        "plt.legend()\n",
        "plt.show()"
      ],
      "metadata": {
        "id": "ZlPriFHEwPTT"
      },
      "execution_count": null,
      "outputs": []
    },
    {
      "cell_type": "code",
      "source": [
        "fig = m.plot(m.predict(future))"
      ],
      "metadata": {
        "id": "WgzPM41PwPQi"
      },
      "execution_count": null,
      "outputs": []
    },
    {
      "cell_type": "code",
      "source": [
        "r2 = round(r2_score(df_1170[\"y\"], preds), 3)\n",
        "mse = round(mean_squared_error(df_1170[\"y\"], preds), 3)\n",
        "mae = round(mean_absolute_error(df_1170[\"y\"], preds), 3)\n",
        "print(\"R2: \", r2)\n",
        "print(\"MSE: \", mse)\n",
        "print(\"MAE: \", mae)"
      ],
      "metadata": {
        "id": "4CK73tyWwPN1"
      },
      "execution_count": null,
      "outputs": []
    },
    {
      "cell_type": "code",
      "source": [
        "fig = m.plot_components(forecast)"
      ],
      "metadata": {
        "id": "OTgssgNrwPLC"
      },
      "execution_count": null,
      "outputs": []
    },
    {
      "cell_type": "code",
      "source": [
        "from fbprophet.plot import add_changepoints_to_plot\n",
        "fig = m.plot(forecast)\n",
        "a = add_changepoints_to_plot(fig.gca(), m, forecast)"
      ],
      "metadata": {
        "id": "3h6N0mJmwPIv"
      },
      "execution_count": null,
      "outputs": []
    },
    {
      "cell_type": "code",
      "source": [
        "final_1170 = forecast[['ds', 'yhat']]\n",
        "final_1170['yhat_1170'] = final_1170['yhat']\n",
        "final_1170 = final_1170[['ds', 'yhat_1170']]\n",
        "final_1170.tail()"
      ],
      "metadata": {
        "id": "IKs-iM_cwutD"
      },
      "execution_count": null,
      "outputs": []
    },
    {
      "cell_type": "markdown",
      "source": [
        "✅ 아래 datetime 날짜를 수정 (데이터가 있는 날짜. 2019, 1, 1 ~ 오늘 날짜)"
      ],
      "metadata": {
        "id": "CRX__hmWUuFx"
      }
    },
    {
      "cell_type": "code",
      "source": [
        "#Noksan\n",
        "\n",
        "df_1180 = df[['date','1180']]\n",
        "df_1180['ds'] = pd.to_datetime(df_1180['date'])\n",
        "df_1180['y'] = df_1180['1180']\n",
        "df_1180 = df_1180.loc[:,['ds', 'y']]\n",
        "\n",
        "df_1180['ds'] = pd.to_datetime(df_1180['ds'])\n",
        "df_1180 = df_1180[df_1180['ds'].dt.dayofweek < 5]\n",
        "df_1180['date_index'] = df_1180['ds']\n",
        "df_1180 = df_1180.set_index('date_index')\n",
        "df_1180['cap'] = 30000000\n",
        "df_1180['floor'] = 0\n",
        "\n",
        "df_1180 = df_1180[datetime(2019, 1, 1):datetime(2022, 6, 22)]"
      ],
      "metadata": {
        "id": "lKpVbe4SwuqY"
      },
      "execution_count": null,
      "outputs": []
    },
    {
      "cell_type": "code",
      "source": [
        "plt.figure(figsize = (25, 9))\n",
        "plt.plot(df_1180.index,df_1180.y)\n",
        "plt.show()"
      ],
      "metadata": {
        "id": "HS9NDqfLwuiy"
      },
      "execution_count": null,
      "outputs": []
    },
    {
      "cell_type": "markdown",
      "source": [
        "✅ future = m.make_future_dataframe(periods=9) 부분에서 periods = 앞으로 예측할 날짜의 수 로 수정 (토요일 일요일 포함)\n",
        "\n",
        "✅preds= forecast['yhat'][:-7] 에서 7 을 앞으로 예측할 날짜의 수로 수정 (토요일 일요일 제외)"
      ],
      "metadata": {
        "id": "eSA9DhEyU1nI"
      }
    },
    {
      "cell_type": "code",
      "source": [
        "m=Prophet(growth='logistic',weekly_seasonality= 20,yearly_seasonality=5,seasonality_prior_scale=20, changepoint_prior_scale=0.5)\n",
        "m.add_seasonality(name='monthly', period=30.5, fourier_order=2)\n",
        "m.add_country_holidays(country_name='KR')\n",
        "m.fit(df_1180)\n",
        "\n",
        "future = m.make_future_dataframe(periods=8)\n",
        "future = future[future['ds'].dt.dayofweek < 5]\n",
        "future['cap'] = 10000000\n",
        "future['floor'] = 0\n",
        "\n",
        "forecast=m.predict(future)\n",
        "\n",
        "preds= forecast['yhat'][:-6]"
      ],
      "metadata": {
        "id": "GYS3EN2Rwugb"
      },
      "execution_count": null,
      "outputs": []
    },
    {
      "cell_type": "code",
      "source": [
        "plt.figure(figsize=(15,6))\n",
        "plt.plot(df_1180.index,preds,color='red',label=' Predictions')\n",
        "plt.plot(df_1180.index,df_1180.y,color='blue',label='Actual')\n",
        "plt.legend()\n",
        "plt.show()"
      ],
      "metadata": {
        "id": "r0b3xszVxzIq"
      },
      "execution_count": null,
      "outputs": []
    },
    {
      "cell_type": "code",
      "source": [
        "fig = m.plot(m.predict(future))"
      ],
      "metadata": {
        "id": "GDdCSjgjx6Au"
      },
      "execution_count": null,
      "outputs": []
    },
    {
      "cell_type": "code",
      "source": [
        "r2 = round(r2_score(df_1180[\"y\"], preds), 3)\n",
        "mse = round(mean_squared_error(df_1180[\"y\"], preds), 3)\n",
        "mae = round(mean_absolute_error(df_1180[\"y\"], preds), 3)\n",
        "print(\"R2: \", r2)\n",
        "print(\"MSE: \", mse)\n",
        "print(\"MAE: \", mae)"
      ],
      "metadata": {
        "id": "0iq2_hoPx5-p"
      },
      "execution_count": null,
      "outputs": []
    },
    {
      "cell_type": "code",
      "source": [
        "fig = m.plot_components(forecast)"
      ],
      "metadata": {
        "id": "5KpeBNLdx57-"
      },
      "execution_count": null,
      "outputs": []
    },
    {
      "cell_type": "code",
      "source": [
        "from fbprophet.plot import add_changepoints_to_plot\n",
        "fig = m.plot(forecast)\n",
        "a = add_changepoints_to_plot(fig.gca(), m, forecast)"
      ],
      "metadata": {
        "id": "hyeIq-htx55h"
      },
      "execution_count": null,
      "outputs": []
    },
    {
      "cell_type": "code",
      "source": [
        "final_1180 = forecast[['ds', 'yhat']]\n",
        "final_1180['yhat_1180'] = final_1180['yhat']\n",
        "final_1180 = final_1180[['ds', 'yhat_1180']]\n",
        "final_1180.tail()"
      ],
      "metadata": {
        "id": "bZtXTmvvx50f"
      },
      "execution_count": null,
      "outputs": []
    },
    {
      "cell_type": "code",
      "source": [
        "final_1110['date_index'] = final_1110['ds']\n",
        "final_1110 = final_1110.set_index('date_index')\n",
        "\n",
        "final_1120['date_index'] = final_1120['ds']\n",
        "final_1120 = final_1120.set_index('date_index')\n",
        "\n",
        "final_1140['date_index'] = final_1140['ds']\n",
        "final_1140 = final_1140.set_index('date_index')\n",
        "\n",
        "final_1150['date_index'] = final_1150['ds']\n",
        "final_1150 = final_1150.set_index('date_index')\n",
        "\n",
        "final_1160['date_index'] = final_1160['ds']\n",
        "final_1160 = final_1160.set_index('date_index')\n",
        "\n",
        "final_1170['date_index'] = final_1170['ds']\n",
        "final_1170 = final_1170.set_index('date_index')\n",
        "\n",
        "final_1180['date_index'] = final_1180['ds']\n",
        "final_1180 = final_1180.set_index('date_index')"
      ],
      "metadata": {
        "id": "imjBbNpNMw4P"
      },
      "execution_count": null,
      "outputs": []
    },
    {
      "cell_type": "code",
      "source": [
        "final_1110 = final_1110[730:]\n",
        "final_1120 = final_1120[730:]\n",
        "final_1140 = final_1140[730:]\n",
        "final_1150 = final_1150[730:]\n",
        "final_1160 = final_1160[730:]\n",
        "final_1170 = final_1170[730:]\n",
        "final_1180 = final_1180[730:]"
      ],
      "metadata": {
        "id": "hjAttVxIgVcj"
      },
      "execution_count": null,
      "outputs": []
    },
    {
      "cell_type": "code",
      "source": [
        "final_total = pd.merge(final_1110, final_1120)\n",
        "final_total = pd.merge(final_total, final_1140)\n",
        "final_total = pd.merge(final_total, final_1150)\n",
        "final_total = pd.merge(final_total, final_1160)\n",
        "final_total = pd.merge(final_total, final_1170)\n",
        "final_total = pd.merge(final_total, final_1180)"
      ],
      "metadata": {
        "id": "eiB0drFLel2G"
      },
      "execution_count": null,
      "outputs": []
    },
    {
      "cell_type": "code",
      "source": [
        "final_total['final_sum'] = final_total['yhat_1110'] + final_total['yhat_1120'] + final_total['yhat_1140'] + final_total['yhat_1150'] + final_total['yhat_1160'] +final_total['yhat_1170'] + final_total['yhat_1180']"
      ],
      "metadata": {
        "id": "pPzu0bHcYReA"
      },
      "execution_count": null,
      "outputs": []
    },
    {
      "cell_type": "markdown",
      "source": [
        "\n",
        "✅final_total.tail(8) 에서 8 을 앞으로 예측할 날짜의 수로 수정 (토요일 일요일 제외)"
      ],
      "metadata": {
        "id": "p-kGI-BfV8YB"
      }
    },
    {
      "cell_type": "code",
      "source": [
        "final_total.tail(6)"
      ],
      "metadata": {
        "id": "nqTDkAaGYm5I"
      },
      "execution_count": null,
      "outputs": []
    },
    {
      "cell_type": "code",
      "source": [
        ""
      ],
      "metadata": {
        "id": "Dv9mgFRqyhF7"
      },
      "execution_count": null,
      "outputs": []
    }
  ]
}